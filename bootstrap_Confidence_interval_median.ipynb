{
 "cells": [
  {
   "cell_type": "markdown",
   "metadata": {},
   "source": [
    "Bootstrap Based Cofidence Intregal to computer median\n",
    "---------------------------------------------------\n",
    " \n",
    " "
   ]
  },
  {
   "cell_type": "code",
   "execution_count": 3,
   "metadata": {},
   "outputs": [
    {
     "data": {
      "image/png": "[encoded data removed]",
      "text/plain": [
       "<Figure size 432x288 with 1 Axes>"
      ]
     },
     "metadata": {
      "needs_background": "light"
     },
     "output_type": "display_data"
    },
    {
     "name": "stdout",
     "output_type": "stream",
     "text": [
      "The median computer with bootstraping is : [ 160.95 , 176.0 ] with confidence 95.0\n",
      "The sample median is : 169.5\n"
     ]
    }
   ],
   "source": [
    "import numpy as np\n",
    "import pandas as pd\n",
    "import sklearn.utils as skutil\n",
    "import sklearn.metrics as skmet\n",
    "import matplotlib.pyplot as plt\n",
    "\n",
    "#load sample\n",
    "x=np.array([180,162,158,172,168,150,171,183,165,176])\n",
    "\n",
    "#bootstrap parameter\n",
    "iteration=100\n",
    "size=int(len(x))\n",
    "\n",
    "#run bootstrap\n",
    "boot_medians=list() #will store the median of bootstrap samples\n",
    "for i in range(iteration):\n",
    "    #make random samples s\n",
    "    s=skutil.resample(x,n_samples=size)\n",
    "    m=np.median(s)\n",
    "    #save the median of each bootstrap samples\n",
    "    boot_medians.append(m)\n",
    "    \n",
    "#plotting\n",
    "plt.hist(boot_medians)\n",
    "plt.show()\n",
    "\n",
    "#calculating cofindence interval of median with 95%\n",
    "percentage=0.95\n",
    "#calculatting lower limit of CI\n",
    "p=((1.0-percentage)/2.0)*100\n",
    "lower_limit=np.percentile(boot_medians,p)\n",
    "#calculatting upper limit of CI\n",
    "p=(percentage+(1.0-percentage)/2.0)*100\n",
    "upper_limit=np.percentile(boot_medians,p)\n",
    "\n",
    "print(\"The median computer with bootstraping is : [\",lower_limit,\",\",upper_limit,\"]\",\"with confidence\",percentage*100)\n",
    "print('The sample median is :',np.median(x))\n",
    "\n"
   ]
  }
 ],
 "metadata": {
  "kernelspec": {
   "display_name": "Python 3",
   "language": "python",
   "name": "python3"
  },
  "language_info": {
   "codemirror_mode": {
    "name": "ipython",
    "version": 3
   },
   "file_extension": ".py",
   "mimetype": "text/x-python",
   "name": "python",
   "nbconvert_exporter": "python",
   "pygments_lexer": "ipython3",
   "version": "3.7.0"
  }
 },
 "nbformat": 4,
 "nbformat_minor": 2
}
